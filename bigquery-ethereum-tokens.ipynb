{
 "cells": [
  {
   "cell_type": "code",
   "execution_count": 1,
   "id": "e2da685c",
   "metadata": {
    "execution": {
     "iopub.execute_input": "2024-09-19T12:28:52.826922Z",
     "iopub.status.busy": "2024-09-19T12:28:52.826299Z",
     "iopub.status.idle": "2024-09-19T12:28:58.905065Z",
     "shell.execute_reply": "2024-09-19T12:28:58.903468Z"
    },
    "papermill": {
     "duration": 6.100096,
     "end_time": "2024-09-19T12:28:58.908886",
     "exception": false,
     "start_time": "2024-09-19T12:28:52.808790",
     "status": "completed"
    },
    "tags": []
   },
   "outputs": [],
   "source": [
    "from google.cloud import bigquery"
   ]
  },
  {
   "cell_type": "code",
   "execution_count": 2,
   "id": "1e6f364e",
   "metadata": {
    "execution": {
     "iopub.execute_input": "2024-09-19T12:28:58.941857Z",
     "iopub.status.busy": "2024-09-19T12:28:58.941221Z",
     "iopub.status.idle": "2024-09-19T12:28:58.947113Z",
     "shell.execute_reply": "2024-09-19T12:28:58.945672Z"
    },
    "papermill": {
     "duration": 0.023794,
     "end_time": "2024-09-19T12:28:58.949777",
     "exception": false,
     "start_time": "2024-09-19T12:28:58.925983",
     "status": "completed"
    },
    "tags": []
   },
   "outputs": [],
   "source": [
    "import os\n",
    "os.environ[\"GCLOUD_PROJECT\"] = \"ethtoken88\""
   ]
  },
  {
   "cell_type": "code",
   "execution_count": 3,
   "id": "7b8d6bcf",
   "metadata": {
    "execution": {
     "iopub.execute_input": "2024-09-19T12:28:58.979235Z",
     "iopub.status.busy": "2024-09-19T12:28:58.978789Z",
     "iopub.status.idle": "2024-09-19T12:28:58.984940Z",
     "shell.execute_reply": "2024-09-19T12:28:58.983541Z"
    },
    "papermill": {
     "duration": 0.024169,
     "end_time": "2024-09-19T12:28:58.987784",
     "exception": false,
     "start_time": "2024-09-19T12:28:58.963615",
     "status": "completed"
    },
    "tags": []
   },
   "outputs": [],
   "source": [
    "client = bigquery.Client(project=\"ethtoken88\")"
   ]
  },
  {
   "cell_type": "code",
   "execution_count": 4,
   "id": "19cb39ab",
   "metadata": {
    "execution": {
     "iopub.execute_input": "2024-09-19T12:28:59.022816Z",
     "iopub.status.busy": "2024-09-19T12:28:59.022391Z",
     "iopub.status.idle": "2024-09-19T12:28:59.035796Z",
     "shell.execute_reply": "2024-09-19T12:28:59.034360Z"
    },
    "papermill": {
     "duration": 0.036935,
     "end_time": "2024-09-19T12:28:59.039184",
     "exception": false,
     "start_time": "2024-09-19T12:28:59.002249",
     "status": "completed"
    },
    "tags": []
   },
   "outputs": [],
   "source": [
    "import numpy as np\n",
    "import pandas as pd\n",
    "# https://github.com/SohierDane/BigQuery_Helper\n",
    "from bq_helper import BigQueryHelper"
   ]
  },
  {
   "cell_type": "code",
   "execution_count": 5,
   "id": "8eac59f3",
   "metadata": {
    "execution": {
     "iopub.execute_input": "2024-09-19T12:28:59.069504Z",
     "iopub.status.busy": "2024-09-19T12:28:59.069043Z",
     "iopub.status.idle": "2024-09-19T12:28:59.075836Z",
     "shell.execute_reply": "2024-09-19T12:28:59.074615Z"
    },
    "papermill": {
     "duration": 0.025707,
     "end_time": "2024-09-19T12:28:59.079163",
     "exception": false,
     "start_time": "2024-09-19T12:28:59.053456",
     "status": "completed"
    },
    "tags": []
   },
   "outputs": [
    {
     "name": "stdout",
     "output_type": "stream",
     "text": [
      "Please ensure you specify a project id when creating the client in order to use your BigQuery account.\n"
     ]
    }
   ],
   "source": [
    "bq_assistant = BigQueryHelper(\"bigquery-public-data\", \"crypto_ethereum\")"
   ]
  },
  {
   "cell_type": "code",
   "execution_count": 6,
   "id": "2cd1a7c5",
   "metadata": {
    "execution": {
     "iopub.execute_input": "2024-09-19T12:28:59.115512Z",
     "iopub.status.busy": "2024-09-19T12:28:59.115061Z",
     "iopub.status.idle": "2024-09-19T12:29:00.658916Z",
     "shell.execute_reply": "2024-09-19T12:29:00.657445Z"
    },
    "papermill": {
     "duration": 1.566369,
     "end_time": "2024-09-19T12:29:00.661753",
     "exception": false,
     "start_time": "2024-09-19T12:28:59.095384",
     "status": "completed"
    },
    "tags": []
   },
   "outputs": [
    {
     "name": "stdout",
     "output_type": "stream",
     "text": [
      "CPU times: user 25.2 ms, sys: 9.61 ms, total: 34.9 ms\n",
      "Wall time: 1.53 s\n"
     ]
    },
    {
     "data": {
      "text/plain": [
       "['amended_tokens',\n",
       " 'balances',\n",
       " 'blocks',\n",
       " 'contracts',\n",
       " 'load_metadata',\n",
       " 'logs',\n",
       " 'sessions',\n",
       " 'token_transfers',\n",
       " 'tokens',\n",
       " 'traces',\n",
       " 'transactions']"
      ]
     },
     "execution_count": 6,
     "metadata": {},
     "output_type": "execute_result"
    }
   ],
   "source": [
    "%%time\n",
    "bq_assistant.list_tables()"
   ]
  },
  {
   "cell_type": "code",
   "execution_count": 7,
   "id": "7c1e9d2a",
   "metadata": {
    "execution": {
     "iopub.execute_input": "2024-09-19T12:29:00.692778Z",
     "iopub.status.busy": "2024-09-19T12:29:00.692301Z",
     "iopub.status.idle": "2024-09-19T12:29:01.014085Z",
     "shell.execute_reply": "2024-09-19T12:29:01.012720Z"
    },
    "papermill": {
     "duration": 0.340142,
     "end_time": "2024-09-19T12:29:01.016640",
     "exception": false,
     "start_time": "2024-09-19T12:29:00.676498",
     "status": "completed"
    },
    "tags": []
   },
   "outputs": [
    {
     "name": "stdout",
     "output_type": "stream",
     "text": [
      "CPU times: user 5.48 ms, sys: 3.8 ms, total: 9.28 ms\n",
      "Wall time: 304 ms\n"
     ]
    },
    {
     "data": {
      "text/html": [
       "<div>\n",
       "<style scoped>\n",
       "    .dataframe tbody tr th:only-of-type {\n",
       "        vertical-align: middle;\n",
       "    }\n",
       "\n",
       "    .dataframe tbody tr th {\n",
       "        vertical-align: top;\n",
       "    }\n",
       "\n",
       "    .dataframe thead th {\n",
       "        text-align: right;\n",
       "    }\n",
       "</style>\n",
       "<table border=\"1\" class=\"dataframe\">\n",
       "  <thead>\n",
       "    <tr style=\"text-align: right;\">\n",
       "      <th></th>\n",
       "      <th>name</th>\n",
       "      <th>type</th>\n",
       "      <th>mode</th>\n",
       "      <th>description</th>\n",
       "    </tr>\n",
       "  </thead>\n",
       "  <tbody>\n",
       "    <tr>\n",
       "      <th>0</th>\n",
       "      <td>address</td>\n",
       "      <td>STRING</td>\n",
       "      <td>REQUIRED</td>\n",
       "      <td>The address of the ERC20 token</td>\n",
       "    </tr>\n",
       "    <tr>\n",
       "      <th>1</th>\n",
       "      <td>symbol</td>\n",
       "      <td>STRING</td>\n",
       "      <td>NULLABLE</td>\n",
       "      <td>The symbol of the ERC20 token</td>\n",
       "    </tr>\n",
       "    <tr>\n",
       "      <th>2</th>\n",
       "      <td>name</td>\n",
       "      <td>STRING</td>\n",
       "      <td>NULLABLE</td>\n",
       "      <td>The name of the ERC20 token</td>\n",
       "    </tr>\n",
       "    <tr>\n",
       "      <th>3</th>\n",
       "      <td>decimals</td>\n",
       "      <td>STRING</td>\n",
       "      <td>NULLABLE</td>\n",
       "      <td>The number of decimals the token uses. Use saf...</td>\n",
       "    </tr>\n",
       "    <tr>\n",
       "      <th>4</th>\n",
       "      <td>total_supply</td>\n",
       "      <td>STRING</td>\n",
       "      <td>NULLABLE</td>\n",
       "      <td>The total token supply. Use safe_cast for cast...</td>\n",
       "    </tr>\n",
       "    <tr>\n",
       "      <th>5</th>\n",
       "      <td>block_timestamp</td>\n",
       "      <td>TIMESTAMP</td>\n",
       "      <td>REQUIRED</td>\n",
       "      <td>Timestamp of the block where this token was cr...</td>\n",
       "    </tr>\n",
       "    <tr>\n",
       "      <th>6</th>\n",
       "      <td>block_number</td>\n",
       "      <td>INTEGER</td>\n",
       "      <td>REQUIRED</td>\n",
       "      <td>Block number where this token was created</td>\n",
       "    </tr>\n",
       "    <tr>\n",
       "      <th>7</th>\n",
       "      <td>block_hash</td>\n",
       "      <td>STRING</td>\n",
       "      <td>REQUIRED</td>\n",
       "      <td>Hash of the block where this token was created</td>\n",
       "    </tr>\n",
       "  </tbody>\n",
       "</table>\n",
       "</div>"
      ],
      "text/plain": [
       "              name       type      mode  \\\n",
       "0          address     STRING  REQUIRED   \n",
       "1           symbol     STRING  NULLABLE   \n",
       "2             name     STRING  NULLABLE   \n",
       "3         decimals     STRING  NULLABLE   \n",
       "4     total_supply     STRING  NULLABLE   \n",
       "5  block_timestamp  TIMESTAMP  REQUIRED   \n",
       "6     block_number    INTEGER  REQUIRED   \n",
       "7       block_hash     STRING  REQUIRED   \n",
       "\n",
       "                                         description  \n",
       "0                     The address of the ERC20 token  \n",
       "1                      The symbol of the ERC20 token  \n",
       "2                        The name of the ERC20 token  \n",
       "3  The number of decimals the token uses. Use saf...  \n",
       "4  The total token supply. Use safe_cast for cast...  \n",
       "5  Timestamp of the block where this token was cr...  \n",
       "6          Block number where this token was created  \n",
       "7     Hash of the block where this token was created  "
      ]
     },
     "execution_count": 7,
     "metadata": {},
     "output_type": "execute_result"
    }
   ],
   "source": [
    "%%time\n",
    "bq_assistant.table_schema(\"tokens\")"
   ]
  },
  {
   "cell_type": "code",
   "execution_count": 8,
   "id": "727802e2",
   "metadata": {
    "execution": {
     "iopub.execute_input": "2024-09-19T12:29:01.048293Z",
     "iopub.status.busy": "2024-09-19T12:29:01.047852Z",
     "iopub.status.idle": "2024-09-19T12:29:01.333936Z",
     "shell.execute_reply": "2024-09-19T12:29:01.332703Z"
    },
    "papermill": {
     "duration": 0.305347,
     "end_time": "2024-09-19T12:29:01.336549",
     "exception": false,
     "start_time": "2024-09-19T12:29:01.031202",
     "status": "completed"
    },
    "tags": []
   },
   "outputs": [
    {
     "name": "stdout",
     "output_type": "stream",
     "text": [
      "CPU times: user 4.66 ms, sys: 1.97 ms, total: 6.63 ms\n",
      "Wall time: 272 ms\n"
     ]
    },
    {
     "data": {
      "text/html": [
       "<div>\n",
       "<style scoped>\n",
       "    .dataframe tbody tr th:only-of-type {\n",
       "        vertical-align: middle;\n",
       "    }\n",
       "\n",
       "    .dataframe tbody tr th {\n",
       "        vertical-align: top;\n",
       "    }\n",
       "\n",
       "    .dataframe thead th {\n",
       "        text-align: right;\n",
       "    }\n",
       "</style>\n",
       "<table border=\"1\" class=\"dataframe\">\n",
       "  <thead>\n",
       "    <tr style=\"text-align: right;\">\n",
       "      <th></th>\n",
       "      <th>name</th>\n",
       "      <th>type</th>\n",
       "      <th>mode</th>\n",
       "      <th>description</th>\n",
       "    </tr>\n",
       "  </thead>\n",
       "  <tbody>\n",
       "    <tr>\n",
       "      <th>0</th>\n",
       "      <td>address</td>\n",
       "      <td>STRING</td>\n",
       "      <td>REQUIRED</td>\n",
       "      <td>Address of the contract</td>\n",
       "    </tr>\n",
       "    <tr>\n",
       "      <th>1</th>\n",
       "      <td>bytecode</td>\n",
       "      <td>STRING</td>\n",
       "      <td>NULLABLE</td>\n",
       "      <td>Bytecode of the contract</td>\n",
       "    </tr>\n",
       "    <tr>\n",
       "      <th>2</th>\n",
       "      <td>function_sighashes</td>\n",
       "      <td>STRING</td>\n",
       "      <td>REPEATED</td>\n",
       "      <td>4-byte function signature hashes</td>\n",
       "    </tr>\n",
       "    <tr>\n",
       "      <th>3</th>\n",
       "      <td>is_erc20</td>\n",
       "      <td>BOOLEAN</td>\n",
       "      <td>NULLABLE</td>\n",
       "      <td>Whether this contract is an ERC20 contract</td>\n",
       "    </tr>\n",
       "    <tr>\n",
       "      <th>4</th>\n",
       "      <td>is_erc721</td>\n",
       "      <td>BOOLEAN</td>\n",
       "      <td>NULLABLE</td>\n",
       "      <td>Whether this contract is an ERC721 contract</td>\n",
       "    </tr>\n",
       "    <tr>\n",
       "      <th>5</th>\n",
       "      <td>block_timestamp</td>\n",
       "      <td>TIMESTAMP</td>\n",
       "      <td>REQUIRED</td>\n",
       "      <td>Timestamp of the block where this contract was...</td>\n",
       "    </tr>\n",
       "    <tr>\n",
       "      <th>6</th>\n",
       "      <td>block_number</td>\n",
       "      <td>INTEGER</td>\n",
       "      <td>REQUIRED</td>\n",
       "      <td>Block number where this contract was created</td>\n",
       "    </tr>\n",
       "    <tr>\n",
       "      <th>7</th>\n",
       "      <td>block_hash</td>\n",
       "      <td>STRING</td>\n",
       "      <td>REQUIRED</td>\n",
       "      <td>Hash of the block where this contract was created</td>\n",
       "    </tr>\n",
       "  </tbody>\n",
       "</table>\n",
       "</div>"
      ],
      "text/plain": [
       "                 name       type      mode  \\\n",
       "0             address     STRING  REQUIRED   \n",
       "1            bytecode     STRING  NULLABLE   \n",
       "2  function_sighashes     STRING  REPEATED   \n",
       "3            is_erc20    BOOLEAN  NULLABLE   \n",
       "4           is_erc721    BOOLEAN  NULLABLE   \n",
       "5     block_timestamp  TIMESTAMP  REQUIRED   \n",
       "6        block_number    INTEGER  REQUIRED   \n",
       "7          block_hash     STRING  REQUIRED   \n",
       "\n",
       "                                         description  \n",
       "0                            Address of the contract  \n",
       "1                           Bytecode of the contract  \n",
       "2                   4-byte function signature hashes  \n",
       "3         Whether this contract is an ERC20 contract  \n",
       "4        Whether this contract is an ERC721 contract  \n",
       "5  Timestamp of the block where this contract was...  \n",
       "6       Block number where this contract was created  \n",
       "7  Hash of the block where this contract was created  "
      ]
     },
     "execution_count": 8,
     "metadata": {},
     "output_type": "execute_result"
    }
   ],
   "source": [
    "%%time\n",
    "bq_assistant.table_schema(\"contracts\")"
   ]
  },
  {
   "cell_type": "code",
   "execution_count": 9,
   "id": "8f37086d",
   "metadata": {
    "execution": {
     "iopub.execute_input": "2024-09-19T12:29:01.370732Z",
     "iopub.status.busy": "2024-09-19T12:29:01.370297Z",
     "iopub.status.idle": "2024-09-19T12:29:04.129253Z",
     "shell.execute_reply": "2024-09-19T12:29:04.127673Z"
    },
    "papermill": {
     "duration": 2.779124,
     "end_time": "2024-09-19T12:29:04.132765",
     "exception": false,
     "start_time": "2024-09-19T12:29:01.353641",
     "status": "completed"
    },
    "tags": []
   },
   "outputs": [
    {
     "name": "stdout",
     "output_type": "stream",
     "text": [
      "CPU times: user 12 ms, sys: 848 µs, total: 12.8 ms\n",
      "Wall time: 2.73 s\n"
     ]
    },
    {
     "data": {
      "text/html": [
       "<div>\n",
       "<style scoped>\n",
       "    .dataframe tbody tr th:only-of-type {\n",
       "        vertical-align: middle;\n",
       "    }\n",
       "\n",
       "    .dataframe tbody tr th {\n",
       "        vertical-align: top;\n",
       "    }\n",
       "\n",
       "    .dataframe thead th {\n",
       "        text-align: right;\n",
       "    }\n",
       "</style>\n",
       "<table border=\"1\" class=\"dataframe\">\n",
       "  <thead>\n",
       "    <tr style=\"text-align: right;\">\n",
       "      <th></th>\n",
       "      <th>timestamp</th>\n",
       "      <th>number</th>\n",
       "      <th>hash</th>\n",
       "      <th>parent_hash</th>\n",
       "      <th>nonce</th>\n",
       "      <th>sha3_uncles</th>\n",
       "      <th>logs_bloom</th>\n",
       "      <th>transactions_root</th>\n",
       "      <th>state_root</th>\n",
       "      <th>receipts_root</th>\n",
       "      <th>...</th>\n",
       "      <th>size</th>\n",
       "      <th>extra_data</th>\n",
       "      <th>gas_limit</th>\n",
       "      <th>gas_used</th>\n",
       "      <th>transaction_count</th>\n",
       "      <th>base_fee_per_gas</th>\n",
       "      <th>withdrawals_root</th>\n",
       "      <th>withdrawals</th>\n",
       "      <th>blob_gas_used</th>\n",
       "      <th>excess_blob_gas</th>\n",
       "    </tr>\n",
       "  </thead>\n",
       "  <tbody>\n",
       "    <tr>\n",
       "      <th>0</th>\n",
       "      <td>2018-12-09 22:12:53+00:00</td>\n",
       "      <td>6857160</td>\n",
       "      <td>0x5976b3f27aec028cc74e5bb89d71c6b72b0ea8a2c9ed...</td>\n",
       "      <td>0x03ceaf7f4fe02662380d863b5338235ab144a0d9ba7c...</td>\n",
       "      <td>0x254b82e806a21927</td>\n",
       "      <td>0x39d8a05c0be72ed662377c7930f3b7fb637d045604f9...</td>\n",
       "      <td>0x940a00800010089281680000210000520a0ae00c6005...</td>\n",
       "      <td>0xa2bd7f2415da55aaccdd4c2dea488d19aea4f2abdb8d...</td>\n",
       "      <td>0x7df4bf2f17188e73fc575aa919c1eb8a75e065fbfbc3...</td>\n",
       "      <td>0xedcf4322c376dac11f2a921801b706dd9594e25c7ab1...</td>\n",
       "      <td>...</td>\n",
       "      <td>24718</td>\n",
       "      <td>0x</td>\n",
       "      <td>7996144</td>\n",
       "      <td>7979885</td>\n",
       "      <td>160</td>\n",
       "      <td>None</td>\n",
       "      <td>None</td>\n",
       "      <td>[]</td>\n",
       "      <td>None</td>\n",
       "      <td>None</td>\n",
       "    </tr>\n",
       "    <tr>\n",
       "      <th>1</th>\n",
       "      <td>2018-12-09 01:06:37+00:00</td>\n",
       "      <td>6851821</td>\n",
       "      <td>0x9814bac139e70fc2ba1b336c7d09a69d9e67b39fbd28...</td>\n",
       "      <td>0x2040bd46c7f89d12a85b6570f121177266edc22bb26a...</td>\n",
       "      <td>0xff5ca6b011f998a6</td>\n",
       "      <td>0x95e91c499b67a7167a85bd402047a176ad41b38c796f...</td>\n",
       "      <td>0x1062304000e81030ab40152202e0264c459100600a18...</td>\n",
       "      <td>0xa2265992277b5fe3661b35e9eb3bbfdb7a14c1f65f52...</td>\n",
       "      <td>0x086eda02d6be88ed51779c040042b2a3c53069290552...</td>\n",
       "      <td>0x3096eb8819a1be70cc4ca9328779e6a2571e6a84560b...</td>\n",
       "      <td>...</td>\n",
       "      <td>24554</td>\n",
       "      <td>0x506172697479</td>\n",
       "      <td>7984452</td>\n",
       "      <td>7955731</td>\n",
       "      <td>133</td>\n",
       "      <td>None</td>\n",
       "      <td>None</td>\n",
       "      <td>[]</td>\n",
       "      <td>None</td>\n",
       "      <td>None</td>\n",
       "    </tr>\n",
       "    <tr>\n",
       "      <th>2</th>\n",
       "      <td>2018-12-09 07:48:26+00:00</td>\n",
       "      <td>6853511</td>\n",
       "      <td>0xd89c441b064eac0a8b59355b724e128fd1ef72a89d16...</td>\n",
       "      <td>0x574409546f8a439aa05f62e67f2d709887f01ee4435f...</td>\n",
       "      <td>0xfe5e961807586bda</td>\n",
       "      <td>0x687c58d43dd620cb55b4cbad8e7c5806c1557330176c...</td>\n",
       "      <td>0x00001000004000000000000140000020000000100000...</td>\n",
       "      <td>0xd8a3264f2c587149e50229d099d2729cc7b9ad14d497...</td>\n",
       "      <td>0x21dbe065afafa9bd9aeee8037475a43326961d1df0c2...</td>\n",
       "      <td>0x25063ef3a74c7172d26792f3bc8dd8eac93f7557689d...</td>\n",
       "      <td>...</td>\n",
       "      <td>4968</td>\n",
       "      <td>0x62772e636f6d</td>\n",
       "      <td>8003892</td>\n",
       "      <td>1227225</td>\n",
       "      <td>20</td>\n",
       "      <td>None</td>\n",
       "      <td>None</td>\n",
       "      <td>[]</td>\n",
       "      <td>None</td>\n",
       "      <td>None</td>\n",
       "    </tr>\n",
       "    <tr>\n",
       "      <th>3</th>\n",
       "      <td>2018-12-09 03:22:16+00:00</td>\n",
       "      <td>6852375</td>\n",
       "      <td>0x1fa1ec7e9bffa77a82a4774f18c8ef561472f53eae92...</td>\n",
       "      <td>0x5cca98e465e334c332d003313109f411f335f5ccebed...</td>\n",
       "      <td>0x6c919e1025473dd5</td>\n",
       "      <td>0xb9ad42860f8caf8e5ad19e75caaceed2af285ad0e944...</td>\n",
       "      <td>0x00000000008000000002000040000000000000280000...</td>\n",
       "      <td>0xdecac60619b13cd5ccd4ae220027080ae9ddee6897e2...</td>\n",
       "      <td>0x959d6479880b526cbb5be3c23df9bd70437c01c9c4b9...</td>\n",
       "      <td>0x737741e8a5732406eebd53b7949af362ade82d1be8cf...</td>\n",
       "      <td>...</td>\n",
       "      <td>3780</td>\n",
       "      <td>0x62772e636f6d</td>\n",
       "      <td>8003927</td>\n",
       "      <td>579852</td>\n",
       "      <td>20</td>\n",
       "      <td>None</td>\n",
       "      <td>None</td>\n",
       "      <td>[]</td>\n",
       "      <td>None</td>\n",
       "      <td>None</td>\n",
       "    </tr>\n",
       "  </tbody>\n",
       "</table>\n",
       "<p>4 rows × 23 columns</p>\n",
       "</div>"
      ],
      "text/plain": [
       "                  timestamp   number  \\\n",
       "0 2018-12-09 22:12:53+00:00  6857160   \n",
       "1 2018-12-09 01:06:37+00:00  6851821   \n",
       "2 2018-12-09 07:48:26+00:00  6853511   \n",
       "3 2018-12-09 03:22:16+00:00  6852375   \n",
       "\n",
       "                                                hash  \\\n",
       "0  0x5976b3f27aec028cc74e5bb89d71c6b72b0ea8a2c9ed...   \n",
       "1  0x9814bac139e70fc2ba1b336c7d09a69d9e67b39fbd28...   \n",
       "2  0xd89c441b064eac0a8b59355b724e128fd1ef72a89d16...   \n",
       "3  0x1fa1ec7e9bffa77a82a4774f18c8ef561472f53eae92...   \n",
       "\n",
       "                                         parent_hash               nonce  \\\n",
       "0  0x03ceaf7f4fe02662380d863b5338235ab144a0d9ba7c...  0x254b82e806a21927   \n",
       "1  0x2040bd46c7f89d12a85b6570f121177266edc22bb26a...  0xff5ca6b011f998a6   \n",
       "2  0x574409546f8a439aa05f62e67f2d709887f01ee4435f...  0xfe5e961807586bda   \n",
       "3  0x5cca98e465e334c332d003313109f411f335f5ccebed...  0x6c919e1025473dd5   \n",
       "\n",
       "                                         sha3_uncles  \\\n",
       "0  0x39d8a05c0be72ed662377c7930f3b7fb637d045604f9...   \n",
       "1  0x95e91c499b67a7167a85bd402047a176ad41b38c796f...   \n",
       "2  0x687c58d43dd620cb55b4cbad8e7c5806c1557330176c...   \n",
       "3  0xb9ad42860f8caf8e5ad19e75caaceed2af285ad0e944...   \n",
       "\n",
       "                                          logs_bloom  \\\n",
       "0  0x940a00800010089281680000210000520a0ae00c6005...   \n",
       "1  0x1062304000e81030ab40152202e0264c459100600a18...   \n",
       "2  0x00001000004000000000000140000020000000100000...   \n",
       "3  0x00000000008000000002000040000000000000280000...   \n",
       "\n",
       "                                   transactions_root  \\\n",
       "0  0xa2bd7f2415da55aaccdd4c2dea488d19aea4f2abdb8d...   \n",
       "1  0xa2265992277b5fe3661b35e9eb3bbfdb7a14c1f65f52...   \n",
       "2  0xd8a3264f2c587149e50229d099d2729cc7b9ad14d497...   \n",
       "3  0xdecac60619b13cd5ccd4ae220027080ae9ddee6897e2...   \n",
       "\n",
       "                                          state_root  \\\n",
       "0  0x7df4bf2f17188e73fc575aa919c1eb8a75e065fbfbc3...   \n",
       "1  0x086eda02d6be88ed51779c040042b2a3c53069290552...   \n",
       "2  0x21dbe065afafa9bd9aeee8037475a43326961d1df0c2...   \n",
       "3  0x959d6479880b526cbb5be3c23df9bd70437c01c9c4b9...   \n",
       "\n",
       "                                       receipts_root  ...   size  \\\n",
       "0  0xedcf4322c376dac11f2a921801b706dd9594e25c7ab1...  ...  24718   \n",
       "1  0x3096eb8819a1be70cc4ca9328779e6a2571e6a84560b...  ...  24554   \n",
       "2  0x25063ef3a74c7172d26792f3bc8dd8eac93f7557689d...  ...   4968   \n",
       "3  0x737741e8a5732406eebd53b7949af362ade82d1be8cf...  ...   3780   \n",
       "\n",
       "       extra_data gas_limit  gas_used transaction_count  base_fee_per_gas  \\\n",
       "0              0x   7996144   7979885               160              None   \n",
       "1  0x506172697479   7984452   7955731               133              None   \n",
       "2  0x62772e636f6d   8003892   1227225                20              None   \n",
       "3  0x62772e636f6d   8003927    579852                20              None   \n",
       "\n",
       "   withdrawals_root  withdrawals blob_gas_used excess_blob_gas  \n",
       "0              None           []          None            None  \n",
       "1              None           []          None            None  \n",
       "2              None           []          None            None  \n",
       "3              None           []          None            None  \n",
       "\n",
       "[4 rows x 23 columns]"
      ]
     },
     "execution_count": 9,
     "metadata": {},
     "output_type": "execute_result"
    }
   ],
   "source": [
    "%%time\n",
    "bq_assistant.head(\"blocks\", num_rows=4)"
   ]
  },
  {
   "cell_type": "code",
   "execution_count": 10,
   "id": "27b06142",
   "metadata": {
    "execution": {
     "iopub.execute_input": "2024-09-19T12:29:04.170684Z",
     "iopub.status.busy": "2024-09-19T12:29:04.170232Z",
     "iopub.status.idle": "2024-09-19T12:29:04.672096Z",
     "shell.execute_reply": "2024-09-19T12:29:04.670710Z"
    },
    "papermill": {
     "duration": 0.523187,
     "end_time": "2024-09-19T12:29:04.675371",
     "exception": false,
     "start_time": "2024-09-19T12:29:04.152184",
     "status": "completed"
    },
    "tags": []
   },
   "outputs": [
    {
     "name": "stdout",
     "output_type": "stream",
     "text": [
      "CPU times: user 6.2 ms, sys: 1.18 ms, total: 7.38 ms\n",
      "Wall time: 484 ms\n"
     ]
    },
    {
     "data": {
      "text/html": [
       "<div>\n",
       "<style scoped>\n",
       "    .dataframe tbody tr th:only-of-type {\n",
       "        vertical-align: middle;\n",
       "    }\n",
       "\n",
       "    .dataframe tbody tr th {\n",
       "        vertical-align: top;\n",
       "    }\n",
       "\n",
       "    .dataframe thead th {\n",
       "        text-align: right;\n",
       "    }\n",
       "</style>\n",
       "<table border=\"1\" class=\"dataframe\">\n",
       "  <thead>\n",
       "    <tr style=\"text-align: right;\">\n",
       "      <th></th>\n",
       "      <th>address</th>\n",
       "      <th>symbol</th>\n",
       "      <th>name</th>\n",
       "      <th>decimals</th>\n",
       "      <th>total_supply</th>\n",
       "      <th>block_timestamp</th>\n",
       "      <th>block_number</th>\n",
       "      <th>block_hash</th>\n",
       "    </tr>\n",
       "  </thead>\n",
       "  <tbody>\n",
       "    <tr>\n",
       "      <th>0</th>\n",
       "      <td>0xdbfde58017c787803e27af56c422fef6d2dd3541</td>\n",
       "      <td>None</td>\n",
       "      <td>None</td>\n",
       "      <td>None</td>\n",
       "      <td>None</td>\n",
       "      <td>2019-10-02 10:33:42+00:00</td>\n",
       "      <td>8662327</td>\n",
       "      <td>0x2911dfb899ccc06591687b9369d02dbaa4d92323011d...</td>\n",
       "    </tr>\n",
       "    <tr>\n",
       "      <th>1</th>\n",
       "      <td>0x4a0c567eb959b757620c9bbc7f4f774bfe895b45</td>\n",
       "      <td>None</td>\n",
       "      <td>None</td>\n",
       "      <td>None</td>\n",
       "      <td>None</td>\n",
       "      <td>2019-11-17 09:14:45+00:00</td>\n",
       "      <td>8949620</td>\n",
       "      <td>0x72ff7333d18adefea9f6821da3c3716cce21af9c1726...</td>\n",
       "    </tr>\n",
       "    <tr>\n",
       "      <th>2</th>\n",
       "      <td>0x3f1c1bfce3dc639a6bdf0e60210a94c1d97da231</td>\n",
       "      <td>None</td>\n",
       "      <td>None</td>\n",
       "      <td>None</td>\n",
       "      <td>None</td>\n",
       "      <td>2019-10-30 08:13:58+00:00</td>\n",
       "      <td>8839196</td>\n",
       "      <td>0x42e437bc9c2b4063d8e83277d08716791594914f7130...</td>\n",
       "    </tr>\n",
       "    <tr>\n",
       "      <th>3</th>\n",
       "      <td>0xad1a895e5fb972f07f67526e7247542666a661a2</td>\n",
       "      <td>None</td>\n",
       "      <td>None</td>\n",
       "      <td>None</td>\n",
       "      <td>None</td>\n",
       "      <td>2019-01-26 08:32:05+00:00</td>\n",
       "      <td>7128229</td>\n",
       "      <td>0x85aaf883fb4d32d36c6b6ff9505233b9269cabb868b2...</td>\n",
       "    </tr>\n",
       "  </tbody>\n",
       "</table>\n",
       "</div>"
      ],
      "text/plain": [
       "                                      address symbol  name decimals  \\\n",
       "0  0xdbfde58017c787803e27af56c422fef6d2dd3541   None  None     None   \n",
       "1  0x4a0c567eb959b757620c9bbc7f4f774bfe895b45   None  None     None   \n",
       "2  0x3f1c1bfce3dc639a6bdf0e60210a94c1d97da231   None  None     None   \n",
       "3  0xad1a895e5fb972f07f67526e7247542666a661a2   None  None     None   \n",
       "\n",
       "  total_supply           block_timestamp  block_number  \\\n",
       "0         None 2019-10-02 10:33:42+00:00       8662327   \n",
       "1         None 2019-11-17 09:14:45+00:00       8949620   \n",
       "2         None 2019-10-30 08:13:58+00:00       8839196   \n",
       "3         None 2019-01-26 08:32:05+00:00       7128229   \n",
       "\n",
       "                                          block_hash  \n",
       "0  0x2911dfb899ccc06591687b9369d02dbaa4d92323011d...  \n",
       "1  0x72ff7333d18adefea9f6821da3c3716cce21af9c1726...  \n",
       "2  0x42e437bc9c2b4063d8e83277d08716791594914f7130...  \n",
       "3  0x85aaf883fb4d32d36c6b6ff9505233b9269cabb868b2...  "
      ]
     },
     "execution_count": 10,
     "metadata": {},
     "output_type": "execute_result"
    }
   ],
   "source": [
    "%%time\n",
    "bq_assistant.head(\"tokens\", num_rows=4)"
   ]
  },
  {
   "cell_type": "code",
   "execution_count": 11,
   "id": "c394b3ac",
   "metadata": {
    "execution": {
     "iopub.execute_input": "2024-09-19T12:29:04.709793Z",
     "iopub.status.busy": "2024-09-19T12:29:04.709341Z",
     "iopub.status.idle": "2024-09-19T12:29:05.285985Z",
     "shell.execute_reply": "2024-09-19T12:29:05.284753Z"
    },
    "papermill": {
     "duration": 0.597427,
     "end_time": "2024-09-19T12:29:05.289017",
     "exception": false,
     "start_time": "2024-09-19T12:29:04.691590",
     "status": "completed"
    },
    "tags": []
   },
   "outputs": [],
   "source": [
    "# Construct a reference to the dataset\n",
    "dataset_ref = client.dataset(\"crypto_ethereum\", project=\"bigquery-public-data\")\n",
    "\n",
    "# API request - fetch the dataset\n",
    "dataset = client.get_dataset(dataset_ref)"
   ]
  },
  {
   "cell_type": "code",
   "execution_count": 12,
   "id": "76ca371f",
   "metadata": {
    "execution": {
     "iopub.execute_input": "2024-09-19T12:29:05.326395Z",
     "iopub.status.busy": "2024-09-19T12:29:05.325962Z",
     "iopub.status.idle": "2024-09-19T12:29:05.570427Z",
     "shell.execute_reply": "2024-09-19T12:29:05.569110Z"
    },
    "papermill": {
     "duration": 0.26545,
     "end_time": "2024-09-19T12:29:05.573520",
     "exception": false,
     "start_time": "2024-09-19T12:29:05.308070",
     "status": "completed"
    },
    "tags": []
   },
   "outputs": [
    {
     "name": "stdout",
     "output_type": "stream",
     "text": [
      "amended_tokens\n",
      "balances\n",
      "blocks\n",
      "contracts\n",
      "load_metadata\n",
      "logs\n",
      "sessions\n",
      "token_transfers\n",
      "tokens\n",
      "traces\n",
      "transactions\n"
     ]
    }
   ],
   "source": [
    "# List all the tables in the \"hacker_news\" dataset\n",
    "tables = list(client.list_tables(dataset))\n",
    "\n",
    "# Print names of all tables in the dataset (there are four!)\n",
    "for table in tables:  \n",
    "    print(table.table_id)"
   ]
  },
  {
   "cell_type": "code",
   "execution_count": 13,
   "id": "21344511",
   "metadata": {
    "execution": {
     "iopub.execute_input": "2024-09-19T12:29:05.609003Z",
     "iopub.status.busy": "2024-09-19T12:29:05.608533Z",
     "iopub.status.idle": "2024-09-19T12:29:05.615423Z",
     "shell.execute_reply": "2024-09-19T12:29:05.613667Z"
    },
    "papermill": {
     "duration": 0.028874,
     "end_time": "2024-09-19T12:29:05.618938",
     "exception": false,
     "start_time": "2024-09-19T12:29:05.590064",
     "status": "completed"
    },
    "tags": []
   },
   "outputs": [],
   "source": [
    "QUERY = \"\"\"\n",
    "        SELECT COUNT(address) - COUNT(DISTINCT address)\n",
    "        FROM `bigquery-public-data.crypto_ethereum.tokens`\n",
    "        \"\"\""
   ]
  },
  {
   "cell_type": "code",
   "execution_count": 14,
   "id": "0f27ec63",
   "metadata": {
    "execution": {
     "iopub.execute_input": "2024-09-19T12:29:05.653836Z",
     "iopub.status.busy": "2024-09-19T12:29:05.653400Z",
     "iopub.status.idle": "2024-09-19T12:29:06.091748Z",
     "shell.execute_reply": "2024-09-19T12:29:06.090625Z"
    },
    "papermill": {
     "duration": 0.459227,
     "end_time": "2024-09-19T12:29:06.094615",
     "exception": false,
     "start_time": "2024-09-19T12:29:05.635388",
     "status": "completed"
    },
    "tags": []
   },
   "outputs": [
    {
     "name": "stdout",
     "output_type": "stream",
     "text": [
      "CPU times: user 5.32 ms, sys: 52 µs, total: 5.37 ms\n",
      "Wall time: 430 ms\n"
     ]
    },
    {
     "data": {
      "text/plain": [
       "0.008965086191892624"
      ]
     },
     "execution_count": 14,
     "metadata": {},
     "output_type": "execute_result"
    }
   ],
   "source": [
    "%%time\n",
    "bq_assistant.estimate_query_size(QUERY)"
   ]
  },
  {
   "cell_type": "code",
   "execution_count": 15,
   "id": "dc251894",
   "metadata": {
    "execution": {
     "iopub.execute_input": "2024-09-19T12:29:06.131147Z",
     "iopub.status.busy": "2024-09-19T12:29:06.130712Z",
     "iopub.status.idle": "2024-09-19T12:29:06.135933Z",
     "shell.execute_reply": "2024-09-19T12:29:06.134756Z"
    },
    "papermill": {
     "duration": 0.02556,
     "end_time": "2024-09-19T12:29:06.138450",
     "exception": false,
     "start_time": "2024-09-19T12:29:06.112890",
     "status": "completed"
    },
    "tags": []
   },
   "outputs": [],
   "source": [
    "# Use query_to_pandas_safe to get the results back as a pandas dataframe:\n",
    "# It will cancel if the query is more than 1GB"
   ]
  },
  {
   "cell_type": "code",
   "execution_count": 16,
   "id": "0993bdf9",
   "metadata": {
    "execution": {
     "iopub.execute_input": "2024-09-19T12:29:06.172892Z",
     "iopub.status.busy": "2024-09-19T12:29:06.172049Z",
     "iopub.status.idle": "2024-09-19T12:29:08.143784Z",
     "shell.execute_reply": "2024-09-19T12:29:08.141473Z"
    },
    "papermill": {
     "duration": 1.993674,
     "end_time": "2024-09-19T12:29:08.148315",
     "exception": false,
     "start_time": "2024-09-19T12:29:06.154641",
     "status": "completed"
    },
    "tags": []
   },
   "outputs": [
    {
     "name": "stdout",
     "output_type": "stream",
     "text": [
      "CPU times: user 22.3 ms, sys: 1.18 ms, total: 23.5 ms\n",
      "Wall time: 1.96 s\n"
     ]
    }
   ],
   "source": [
    "%%time\n",
    "df = bq_assistant.query_to_pandas_safe(QUERY)"
   ]
  },
  {
   "cell_type": "code",
   "execution_count": 17,
   "id": "c53f53df",
   "metadata": {
    "execution": {
     "iopub.execute_input": "2024-09-19T12:29:08.189274Z",
     "iopub.status.busy": "2024-09-19T12:29:08.188798Z",
     "iopub.status.idle": "2024-09-19T12:29:08.198280Z",
     "shell.execute_reply": "2024-09-19T12:29:08.197061Z"
    },
    "papermill": {
     "duration": 0.032843,
     "end_time": "2024-09-19T12:29:08.201281",
     "exception": false,
     "start_time": "2024-09-19T12:29:08.168438",
     "status": "completed"
    },
    "tags": []
   },
   "outputs": [
    {
     "name": "stdout",
     "output_type": "stream",
     "text": [
      "Size of dataframe: 136 Bytes\n"
     ]
    }
   ],
   "source": [
    "print('Size of dataframe: {} Bytes'.format(int(df.memory_usage(index=True, deep=True).sum())))"
   ]
  },
  {
   "cell_type": "code",
   "execution_count": 18,
   "id": "64df70cb",
   "metadata": {
    "execution": {
     "iopub.execute_input": "2024-09-19T12:29:08.239143Z",
     "iopub.status.busy": "2024-09-19T12:29:08.238671Z",
     "iopub.status.idle": "2024-09-19T12:29:08.247374Z",
     "shell.execute_reply": "2024-09-19T12:29:08.245760Z"
    },
    "papermill": {
     "duration": 0.030821,
     "end_time": "2024-09-19T12:29:08.250475",
     "exception": false,
     "start_time": "2024-09-19T12:29:08.219654",
     "status": "completed"
    },
    "tags": []
   },
   "outputs": [
    {
     "data": {
      "text/plain": [
       "(1, 1)"
      ]
     },
     "execution_count": 18,
     "metadata": {},
     "output_type": "execute_result"
    }
   ],
   "source": [
    "df.shape"
   ]
  },
  {
   "cell_type": "code",
   "execution_count": 19,
   "id": "a5c7ebed",
   "metadata": {
    "execution": {
     "iopub.execute_input": "2024-09-19T12:29:08.289885Z",
     "iopub.status.busy": "2024-09-19T12:29:08.289418Z",
     "iopub.status.idle": "2024-09-19T12:29:08.300302Z",
     "shell.execute_reply": "2024-09-19T12:29:08.298815Z"
    },
    "papermill": {
     "duration": 0.034059,
     "end_time": "2024-09-19T12:29:08.303118",
     "exception": false,
     "start_time": "2024-09-19T12:29:08.269059",
     "status": "completed"
    },
    "tags": []
   },
   "outputs": [
    {
     "data": {
      "text/html": [
       "<div>\n",
       "<style scoped>\n",
       "    .dataframe tbody tr th:only-of-type {\n",
       "        vertical-align: middle;\n",
       "    }\n",
       "\n",
       "    .dataframe tbody tr th {\n",
       "        vertical-align: top;\n",
       "    }\n",
       "\n",
       "    .dataframe thead th {\n",
       "        text-align: right;\n",
       "    }\n",
       "</style>\n",
       "<table border=\"1\" class=\"dataframe\">\n",
       "  <thead>\n",
       "    <tr style=\"text-align: right;\">\n",
       "      <th></th>\n",
       "      <th>f0_</th>\n",
       "    </tr>\n",
       "  </thead>\n",
       "  <tbody>\n",
       "    <tr>\n",
       "      <th>0</th>\n",
       "      <td>6</td>\n",
       "    </tr>\n",
       "  </tbody>\n",
       "</table>\n",
       "</div>"
      ],
      "text/plain": [
       "   f0_\n",
       "0    6"
      ]
     },
     "execution_count": 19,
     "metadata": {},
     "output_type": "execute_result"
    }
   ],
   "source": [
    "df"
   ]
  },
  {
   "cell_type": "code",
   "execution_count": 20,
   "id": "9e83c2f4",
   "metadata": {
    "execution": {
     "iopub.execute_input": "2024-09-19T12:29:08.343801Z",
     "iopub.status.busy": "2024-09-19T12:29:08.343368Z",
     "iopub.status.idle": "2024-09-19T12:29:08.349395Z",
     "shell.execute_reply": "2024-09-19T12:29:08.347961Z"
    },
    "papermill": {
     "duration": 0.030034,
     "end_time": "2024-09-19T12:29:08.352563",
     "exception": false,
     "start_time": "2024-09-19T12:29:08.322529",
     "status": "completed"
    },
    "tags": []
   },
   "outputs": [],
   "source": [
    "QUERY = \"\"\"\n",
    "        SELECT COUNT(DISTINCT address)\n",
    "        FROM `bigquery-public-data.crypto_ethereum.tokens`\n",
    "        \"\"\""
   ]
  },
  {
   "cell_type": "code",
   "execution_count": 21,
   "id": "f9cba916",
   "metadata": {
    "execution": {
     "iopub.execute_input": "2024-09-19T12:29:08.392447Z",
     "iopub.status.busy": "2024-09-19T12:29:08.391943Z",
     "iopub.status.idle": "2024-09-19T12:29:08.790290Z",
     "shell.execute_reply": "2024-09-19T12:29:08.788677Z"
    },
    "papermill": {
     "duration": 0.422549,
     "end_time": "2024-09-19T12:29:08.793827",
     "exception": false,
     "start_time": "2024-09-19T12:29:08.371278",
     "status": "completed"
    },
    "tags": []
   },
   "outputs": [
    {
     "name": "stdout",
     "output_type": "stream",
     "text": [
      "CPU times: user 6.14 ms, sys: 165 µs, total: 6.3 ms\n",
      "Wall time: 389 ms\n"
     ]
    },
    {
     "data": {
      "text/plain": [
       "0.008965086191892624"
      ]
     },
     "execution_count": 21,
     "metadata": {},
     "output_type": "execute_result"
    }
   ],
   "source": [
    "%%time\n",
    "bq_assistant.estimate_query_size(QUERY)"
   ]
  },
  {
   "cell_type": "code",
   "execution_count": 22,
   "id": "b0a7c5f0",
   "metadata": {
    "execution": {
     "iopub.execute_input": "2024-09-19T12:29:08.836241Z",
     "iopub.status.busy": "2024-09-19T12:29:08.835581Z",
     "iopub.status.idle": "2024-09-19T12:29:10.673895Z",
     "shell.execute_reply": "2024-09-19T12:29:10.672389Z"
    },
    "papermill": {
     "duration": 1.864995,
     "end_time": "2024-09-19T12:29:10.676733",
     "exception": false,
     "start_time": "2024-09-19T12:29:08.811738",
     "status": "completed"
    },
    "tags": []
   },
   "outputs": [
    {
     "name": "stdout",
     "output_type": "stream",
     "text": [
      "CPU times: user 16.3 ms, sys: 1.32 ms, total: 17.6 ms\n",
      "Wall time: 1.83 s\n"
     ]
    }
   ],
   "source": [
    "%%time\n",
    "df = bq_assistant.query_to_pandas_safe(QUERY)"
   ]
  },
  {
   "cell_type": "code",
   "execution_count": 23,
   "id": "a4f8307b",
   "metadata": {
    "execution": {
     "iopub.execute_input": "2024-09-19T12:29:10.714505Z",
     "iopub.status.busy": "2024-09-19T12:29:10.714080Z",
     "iopub.status.idle": "2024-09-19T12:29:10.724601Z",
     "shell.execute_reply": "2024-09-19T12:29:10.723258Z"
    },
    "papermill": {
     "duration": 0.03353,
     "end_time": "2024-09-19T12:29:10.727896",
     "exception": false,
     "start_time": "2024-09-19T12:29:10.694366",
     "status": "completed"
    },
    "tags": []
   },
   "outputs": [
    {
     "data": {
      "text/html": [
       "<div>\n",
       "<style scoped>\n",
       "    .dataframe tbody tr th:only-of-type {\n",
       "        vertical-align: middle;\n",
       "    }\n",
       "\n",
       "    .dataframe tbody tr th {\n",
       "        vertical-align: top;\n",
       "    }\n",
       "\n",
       "    .dataframe thead th {\n",
       "        text-align: right;\n",
       "    }\n",
       "</style>\n",
       "<table border=\"1\" class=\"dataframe\">\n",
       "  <thead>\n",
       "    <tr style=\"text-align: right;\">\n",
       "      <th></th>\n",
       "      <th>f0_</th>\n",
       "    </tr>\n",
       "  </thead>\n",
       "  <tbody>\n",
       "    <tr>\n",
       "      <th>0</th>\n",
       "      <td>218771</td>\n",
       "    </tr>\n",
       "  </tbody>\n",
       "</table>\n",
       "</div>"
      ],
      "text/plain": [
       "      f0_\n",
       "0  218771"
      ]
     },
     "execution_count": 23,
     "metadata": {},
     "output_type": "execute_result"
    }
   ],
   "source": [
    "df"
   ]
  },
  {
   "cell_type": "code",
   "execution_count": 24,
   "id": "2f6e9a68",
   "metadata": {
    "execution": {
     "iopub.execute_input": "2024-09-19T12:29:10.766026Z",
     "iopub.status.busy": "2024-09-19T12:29:10.765514Z",
     "iopub.status.idle": "2024-09-19T12:29:10.771277Z",
     "shell.execute_reply": "2024-09-19T12:29:10.769956Z"
    },
    "papermill": {
     "duration": 0.02734,
     "end_time": "2024-09-19T12:29:10.774115",
     "exception": false,
     "start_time": "2024-09-19T12:29:10.746775",
     "status": "completed"
    },
    "tags": []
   },
   "outputs": [],
   "source": [
    "QUERY = \"\"\"\n",
    "        SELECT COUNT(*)\n",
    "        FROM `bigquery-public-data.crypto_ethereum.tokens`\n",
    "        \"\"\""
   ]
  },
  {
   "cell_type": "code",
   "execution_count": 25,
   "id": "8e5ffa15",
   "metadata": {
    "execution": {
     "iopub.execute_input": "2024-09-19T12:29:10.815254Z",
     "iopub.status.busy": "2024-09-19T12:29:10.814112Z",
     "iopub.status.idle": "2024-09-19T12:29:11.216756Z",
     "shell.execute_reply": "2024-09-19T12:29:11.215442Z"
    },
    "papermill": {
     "duration": 0.427432,
     "end_time": "2024-09-19T12:29:11.219194",
     "exception": false,
     "start_time": "2024-09-19T12:29:10.791762",
     "status": "completed"
    },
    "tags": []
   },
   "outputs": [
    {
     "name": "stdout",
     "output_type": "stream",
     "text": [
      "CPU times: user 3.48 ms, sys: 1.21 ms, total: 4.7 ms\n",
      "Wall time: 393 ms\n"
     ]
    },
    {
     "data": {
      "text/plain": [
       "0.0"
      ]
     },
     "execution_count": 25,
     "metadata": {},
     "output_type": "execute_result"
    }
   ],
   "source": [
    "%%time\n",
    "bq_assistant.estimate_query_size(QUERY)"
   ]
  },
  {
   "cell_type": "code",
   "execution_count": 26,
   "id": "57dd8544",
   "metadata": {
    "execution": {
     "iopub.execute_input": "2024-09-19T12:29:11.256018Z",
     "iopub.status.busy": "2024-09-19T12:29:11.255543Z",
     "iopub.status.idle": "2024-09-19T12:29:12.790384Z",
     "shell.execute_reply": "2024-09-19T12:29:12.789068Z"
    },
    "papermill": {
     "duration": 1.556762,
     "end_time": "2024-09-19T12:29:12.793369",
     "exception": false,
     "start_time": "2024-09-19T12:29:11.236607",
     "status": "completed"
    },
    "tags": []
   },
   "outputs": [
    {
     "name": "stdout",
     "output_type": "stream",
     "text": [
      "CPU times: user 14.4 ms, sys: 2.06 ms, total: 16.5 ms\n",
      "Wall time: 1.53 s\n"
     ]
    }
   ],
   "source": [
    "%%time\n",
    "df = bq_assistant.query_to_pandas_safe(QUERY)"
   ]
  },
  {
   "cell_type": "code",
   "execution_count": 27,
   "id": "d21dc762",
   "metadata": {
    "execution": {
     "iopub.execute_input": "2024-09-19T12:29:12.832844Z",
     "iopub.status.busy": "2024-09-19T12:29:12.832383Z",
     "iopub.status.idle": "2024-09-19T12:29:12.842475Z",
     "shell.execute_reply": "2024-09-19T12:29:12.841247Z"
    },
    "papermill": {
     "duration": 0.033248,
     "end_time": "2024-09-19T12:29:12.845282",
     "exception": false,
     "start_time": "2024-09-19T12:29:12.812034",
     "status": "completed"
    },
    "tags": []
   },
   "outputs": [
    {
     "data": {
      "text/html": [
       "<div>\n",
       "<style scoped>\n",
       "    .dataframe tbody tr th:only-of-type {\n",
       "        vertical-align: middle;\n",
       "    }\n",
       "\n",
       "    .dataframe tbody tr th {\n",
       "        vertical-align: top;\n",
       "    }\n",
       "\n",
       "    .dataframe thead th {\n",
       "        text-align: right;\n",
       "    }\n",
       "</style>\n",
       "<table border=\"1\" class=\"dataframe\">\n",
       "  <thead>\n",
       "    <tr style=\"text-align: right;\">\n",
       "      <th></th>\n",
       "      <th>f0_</th>\n",
       "    </tr>\n",
       "  </thead>\n",
       "  <tbody>\n",
       "    <tr>\n",
       "      <th>0</th>\n",
       "      <td>218777</td>\n",
       "    </tr>\n",
       "  </tbody>\n",
       "</table>\n",
       "</div>"
      ],
      "text/plain": [
       "      f0_\n",
       "0  218777"
      ]
     },
     "execution_count": 27,
     "metadata": {},
     "output_type": "execute_result"
    }
   ],
   "source": [
    "df"
   ]
  },
  {
   "cell_type": "code",
   "execution_count": 28,
   "id": "396dec85",
   "metadata": {
    "execution": {
     "iopub.execute_input": "2024-09-19T12:29:12.883757Z",
     "iopub.status.busy": "2024-09-19T12:29:12.882976Z",
     "iopub.status.idle": "2024-09-19T12:29:12.888212Z",
     "shell.execute_reply": "2024-09-19T12:29:12.887114Z"
    },
    "papermill": {
     "duration": 0.027686,
     "end_time": "2024-09-19T12:29:12.890720",
     "exception": false,
     "start_time": "2024-09-19T12:29:12.863034",
     "status": "completed"
    },
    "tags": []
   },
   "outputs": [],
   "source": [
    "QUERY = \"\"\"\n",
    "        SELECT address\n",
    "        FROM `bigquery-public-data.crypto_ethereum.tokens` \n",
    "        WHERE address IN\n",
    "          (SELECT address \n",
    "          FROM `bigquery-public-data.crypto_ethereum.tokens`\n",
    "          GROUP BY address HAVING COUNT(*) > 1)\"\"\""
   ]
  },
  {
   "cell_type": "code",
   "execution_count": 29,
   "id": "712504c5",
   "metadata": {
    "execution": {
     "iopub.execute_input": "2024-09-19T12:29:12.928844Z",
     "iopub.status.busy": "2024-09-19T12:29:12.928414Z",
     "iopub.status.idle": "2024-09-19T12:29:13.332823Z",
     "shell.execute_reply": "2024-09-19T12:29:13.331439Z"
    },
    "papermill": {
     "duration": 0.426236,
     "end_time": "2024-09-19T12:29:13.335456",
     "exception": false,
     "start_time": "2024-09-19T12:29:12.909220",
     "status": "completed"
    },
    "tags": []
   },
   "outputs": [
    {
     "name": "stdout",
     "output_type": "stream",
     "text": [
      "CPU times: user 5.79 ms, sys: 108 µs, total: 5.9 ms\n",
      "Wall time: 396 ms\n"
     ]
    },
    {
     "data": {
      "text/plain": [
       "0.008965086191892624"
      ]
     },
     "execution_count": 29,
     "metadata": {},
     "output_type": "execute_result"
    }
   ],
   "source": [
    "%%time\n",
    "bq_assistant.estimate_query_size(QUERY)"
   ]
  },
  {
   "cell_type": "code",
   "execution_count": 30,
   "id": "a1c9ade1",
   "metadata": {
    "execution": {
     "iopub.execute_input": "2024-09-19T12:29:13.375260Z",
     "iopub.status.busy": "2024-09-19T12:29:13.374781Z",
     "iopub.status.idle": "2024-09-19T12:29:15.193084Z",
     "shell.execute_reply": "2024-09-19T12:29:15.191762Z"
    },
    "papermill": {
     "duration": 1.842128,
     "end_time": "2024-09-19T12:29:15.195793",
     "exception": false,
     "start_time": "2024-09-19T12:29:13.353665",
     "status": "completed"
    },
    "tags": []
   },
   "outputs": [
    {
     "name": "stdout",
     "output_type": "stream",
     "text": [
      "CPU times: user 16.8 ms, sys: 973 µs, total: 17.8 ms\n",
      "Wall time: 1.81 s\n"
     ]
    }
   ],
   "source": [
    "%%time\n",
    "not_unique_addresses = bq_assistant.query_to_pandas_safe(QUERY)"
   ]
  },
  {
   "cell_type": "code",
   "execution_count": 31,
   "id": "2fb197b0",
   "metadata": {
    "execution": {
     "iopub.execute_input": "2024-09-19T12:29:15.234542Z",
     "iopub.status.busy": "2024-09-19T12:29:15.234119Z",
     "iopub.status.idle": "2024-09-19T12:29:15.245234Z",
     "shell.execute_reply": "2024-09-19T12:29:15.244079Z"
    },
    "papermill": {
     "duration": 0.033522,
     "end_time": "2024-09-19T12:29:15.247709",
     "exception": false,
     "start_time": "2024-09-19T12:29:15.214187",
     "status": "completed"
    },
    "tags": []
   },
   "outputs": [
    {
     "data": {
      "text/html": [
       "<div>\n",
       "<style scoped>\n",
       "    .dataframe tbody tr th:only-of-type {\n",
       "        vertical-align: middle;\n",
       "    }\n",
       "\n",
       "    .dataframe tbody tr th {\n",
       "        vertical-align: top;\n",
       "    }\n",
       "\n",
       "    .dataframe thead th {\n",
       "        text-align: right;\n",
       "    }\n",
       "</style>\n",
       "<table border=\"1\" class=\"dataframe\">\n",
       "  <thead>\n",
       "    <tr style=\"text-align: right;\">\n",
       "      <th></th>\n",
       "      <th>address</th>\n",
       "    </tr>\n",
       "  </thead>\n",
       "  <tbody>\n",
       "    <tr>\n",
       "      <th>0</th>\n",
       "      <td>0xff0cca1818ddc0d66b53a96a9aa8bda9043e1437</td>\n",
       "    </tr>\n",
       "    <tr>\n",
       "      <th>1</th>\n",
       "      <td>0xff0cca1818ddc0d66b53a96a9aa8bda9043e1437</td>\n",
       "    </tr>\n",
       "    <tr>\n",
       "      <th>2</th>\n",
       "      <td>0xff0cca1818ddc0d66b53a96a9aa8bda9043e1437</td>\n",
       "    </tr>\n",
       "    <tr>\n",
       "      <th>3</th>\n",
       "      <td>0xff0cca1818ddc0d66b53a96a9aa8bda9043e1437</td>\n",
       "    </tr>\n",
       "    <tr>\n",
       "      <th>4</th>\n",
       "      <td>0xff0cca1818ddc0d66b53a96a9aa8bda9043e1437</td>\n",
       "    </tr>\n",
       "    <tr>\n",
       "      <th>5</th>\n",
       "      <td>0xff0cca1818ddc0d66b53a96a9aa8bda9043e1437</td>\n",
       "    </tr>\n",
       "    <tr>\n",
       "      <th>6</th>\n",
       "      <td>0xff0cca1818ddc0d66b53a96a9aa8bda9043e1437</td>\n",
       "    </tr>\n",
       "  </tbody>\n",
       "</table>\n",
       "</div>"
      ],
      "text/plain": [
       "                                      address\n",
       "0  0xff0cca1818ddc0d66b53a96a9aa8bda9043e1437\n",
       "1  0xff0cca1818ddc0d66b53a96a9aa8bda9043e1437\n",
       "2  0xff0cca1818ddc0d66b53a96a9aa8bda9043e1437\n",
       "3  0xff0cca1818ddc0d66b53a96a9aa8bda9043e1437\n",
       "4  0xff0cca1818ddc0d66b53a96a9aa8bda9043e1437\n",
       "5  0xff0cca1818ddc0d66b53a96a9aa8bda9043e1437\n",
       "6  0xff0cca1818ddc0d66b53a96a9aa8bda9043e1437"
      ]
     },
     "execution_count": 31,
     "metadata": {},
     "output_type": "execute_result"
    }
   ],
   "source": [
    "not_unique_addresses"
   ]
  },
  {
   "cell_type": "code",
   "execution_count": 32,
   "id": "64010f96",
   "metadata": {
    "execution": {
     "iopub.execute_input": "2024-09-19T12:29:15.286396Z",
     "iopub.status.busy": "2024-09-19T12:29:15.285989Z",
     "iopub.status.idle": "2024-09-19T12:29:15.292348Z",
     "shell.execute_reply": "2024-09-19T12:29:15.290973Z"
    },
    "papermill": {
     "duration": 0.028878,
     "end_time": "2024-09-19T12:29:15.295065",
     "exception": false,
     "start_time": "2024-09-19T12:29:15.266187",
     "status": "completed"
    },
    "tags": []
   },
   "outputs": [],
   "source": [
    "QUERY_ERC_20 = \"\"\"\n",
    "        SELECT COUNT(is_erc20)\n",
    "        FROM `bigquery-public-data.crypto_ethereum.contracts`\n",
    "        WHERE is_erc20 = TRUE\n",
    "        \"\"\"\n",
    "QUERY_ERC_721 = \"\"\"\n",
    "        SELECT COUNT(is_erc721)\n",
    "        FROM `bigquery-public-data.crypto_ethereum.contracts`\n",
    "        WHERE is_erc721 = TRUE\n",
    "        \"\"\"\n",
    "QUERY_ALL = \"\"\"\n",
    "        SELECT COUNT(*)\n",
    "        FROM `bigquery-public-data.crypto_ethereum.contracts`\n",
    "        \"\"\""
   ]
  },
  {
   "cell_type": "code",
   "execution_count": 33,
   "id": "0f944864",
   "metadata": {
    "execution": {
     "iopub.execute_input": "2024-09-19T12:29:15.334733Z",
     "iopub.status.busy": "2024-09-19T12:29:15.334297Z",
     "iopub.status.idle": "2024-09-19T12:29:18.649644Z",
     "shell.execute_reply": "2024-09-19T12:29:18.648419Z"
    },
    "papermill": {
     "duration": 3.337873,
     "end_time": "2024-09-19T12:29:18.652247",
     "exception": false,
     "start_time": "2024-09-19T12:29:15.314374",
     "status": "completed"
    },
    "tags": []
   },
   "outputs": [
    {
     "name": "stdout",
     "output_type": "stream",
     "text": [
      "CPU times: user 6.3 ms, sys: 1.18 ms, total: 7.48 ms\n",
      "Wall time: 3.31 s\n"
     ]
    },
    {
     "data": {
      "text/plain": [
       "0.06380956806242466"
      ]
     },
     "execution_count": 33,
     "metadata": {},
     "output_type": "execute_result"
    }
   ],
   "source": [
    "%%time\n",
    "bq_assistant.estimate_query_size(QUERY_ERC_721)"
   ]
  },
  {
   "cell_type": "code",
   "execution_count": 34,
   "id": "2f2c8795",
   "metadata": {
    "execution": {
     "iopub.execute_input": "2024-09-19T12:29:18.693441Z",
     "iopub.status.busy": "2024-09-19T12:29:18.692958Z",
     "iopub.status.idle": "2024-09-19T12:29:21.338444Z",
     "shell.execute_reply": "2024-09-19T12:29:21.337269Z"
    },
    "papermill": {
     "duration": 2.669587,
     "end_time": "2024-09-19T12:29:21.341018",
     "exception": false,
     "start_time": "2024-09-19T12:29:18.671431",
     "status": "completed"
    },
    "tags": []
   },
   "outputs": [
    {
     "name": "stdout",
     "output_type": "stream",
     "text": [
      "CPU times: user 4.7 ms, sys: 2.11 ms, total: 6.81 ms\n",
      "Wall time: 2.64 s\n"
     ]
    },
    {
     "data": {
      "text/plain": [
       "0.0"
      ]
     },
     "execution_count": 34,
     "metadata": {},
     "output_type": "execute_result"
    }
   ],
   "source": [
    "%%time\n",
    "bq_assistant.estimate_query_size(QUERY_ALL)"
   ]
  },
  {
   "cell_type": "code",
   "execution_count": 35,
   "id": "7372f485",
   "metadata": {
    "execution": {
     "iopub.execute_input": "2024-09-19T12:29:21.383622Z",
     "iopub.status.busy": "2024-09-19T12:29:21.383206Z",
     "iopub.status.idle": "2024-09-19T12:29:23.821047Z",
     "shell.execute_reply": "2024-09-19T12:29:23.819704Z"
    },
    "papermill": {
     "duration": 2.461249,
     "end_time": "2024-09-19T12:29:23.823490",
     "exception": false,
     "start_time": "2024-09-19T12:29:21.362241",
     "status": "completed"
    },
    "tags": []
   },
   "outputs": [
    {
     "name": "stdout",
     "output_type": "stream",
     "text": [
      "CPU times: user 5.28 ms, sys: 899 µs, total: 6.18 ms\n",
      "Wall time: 2.43 s\n"
     ]
    },
    {
     "data": {
      "text/plain": [
       "0.06380956806242466"
      ]
     },
     "execution_count": 35,
     "metadata": {},
     "output_type": "execute_result"
    }
   ],
   "source": [
    "%%time\n",
    "bq_assistant.estimate_query_size(QUERY_ERC_20)"
   ]
  },
  {
   "cell_type": "code",
   "execution_count": 36,
   "id": "5b0bef26",
   "metadata": {
    "execution": {
     "iopub.execute_input": "2024-09-19T12:29:23.868520Z",
     "iopub.status.busy": "2024-09-19T12:29:23.868081Z",
     "iopub.status.idle": "2024-09-19T12:29:36.861920Z",
     "shell.execute_reply": "2024-09-19T12:29:36.860593Z"
    },
    "papermill": {
     "duration": 13.019974,
     "end_time": "2024-09-19T12:29:36.864625",
     "exception": false,
     "start_time": "2024-09-19T12:29:23.844651",
     "status": "completed"
    },
    "tags": []
   },
   "outputs": [
    {
     "name": "stdout",
     "output_type": "stream",
     "text": [
      "CPU times: user 67.2 ms, sys: 5.43 ms, total: 72.6 ms\n",
      "Wall time: 13 s\n"
     ]
    }
   ],
   "source": [
    "%%time\n",
    "is_erc_20 = bq_assistant.query_to_pandas_safe(QUERY_ERC_20)"
   ]
  },
  {
   "cell_type": "code",
   "execution_count": 37,
   "id": "0f24b007",
   "metadata": {
    "execution": {
     "iopub.execute_input": "2024-09-19T12:29:36.904738Z",
     "iopub.status.busy": "2024-09-19T12:29:36.904301Z",
     "iopub.status.idle": "2024-09-19T12:29:36.916155Z",
     "shell.execute_reply": "2024-09-19T12:29:36.914945Z"
    },
    "papermill": {
     "duration": 0.034826,
     "end_time": "2024-09-19T12:29:36.918665",
     "exception": false,
     "start_time": "2024-09-19T12:29:36.883839",
     "status": "completed"
    },
    "tags": []
   },
   "outputs": [
    {
     "data": {
      "text/html": [
       "<div>\n",
       "<style scoped>\n",
       "    .dataframe tbody tr th:only-of-type {\n",
       "        vertical-align: middle;\n",
       "    }\n",
       "\n",
       "    .dataframe tbody tr th {\n",
       "        vertical-align: top;\n",
       "    }\n",
       "\n",
       "    .dataframe thead th {\n",
       "        text-align: right;\n",
       "    }\n",
       "</style>\n",
       "<table border=\"1\" class=\"dataframe\">\n",
       "  <thead>\n",
       "    <tr style=\"text-align: right;\">\n",
       "      <th></th>\n",
       "      <th>f0_</th>\n",
       "    </tr>\n",
       "  </thead>\n",
       "  <tbody>\n",
       "    <tr>\n",
       "      <th>0</th>\n",
       "      <td>212071</td>\n",
       "    </tr>\n",
       "  </tbody>\n",
       "</table>\n",
       "</div>"
      ],
      "text/plain": [
       "      f0_\n",
       "0  212071"
      ]
     },
     "execution_count": 37,
     "metadata": {},
     "output_type": "execute_result"
    }
   ],
   "source": [
    "is_erc_20"
   ]
  },
  {
   "cell_type": "code",
   "execution_count": 38,
   "id": "1ea83a5e",
   "metadata": {
    "execution": {
     "iopub.execute_input": "2024-09-19T12:29:37.021523Z",
     "iopub.status.busy": "2024-09-19T12:29:37.021108Z",
     "iopub.status.idle": "2024-09-19T12:29:49.053344Z",
     "shell.execute_reply": "2024-09-19T12:29:49.051857Z"
    },
    "papermill": {
     "duration": 12.056908,
     "end_time": "2024-09-19T12:29:49.056297",
     "exception": false,
     "start_time": "2024-09-19T12:29:36.999389",
     "status": "completed"
    },
    "tags": []
   },
   "outputs": [
    {
     "name": "stdout",
     "output_type": "stream",
     "text": [
      "CPU times: user 59.7 ms, sys: 10.4 ms, total: 70.1 ms\n",
      "Wall time: 12 s\n"
     ]
    }
   ],
   "source": [
    "%%time\n",
    "is_erc_721 = bq_assistant.query_to_pandas_safe(QUERY_ERC_721)"
   ]
  },
  {
   "cell_type": "code",
   "execution_count": 39,
   "id": "91bc4b95",
   "metadata": {
    "execution": {
     "iopub.execute_input": "2024-09-19T12:29:49.098391Z",
     "iopub.status.busy": "2024-09-19T12:29:49.097943Z",
     "iopub.status.idle": "2024-09-19T12:29:49.108883Z",
     "shell.execute_reply": "2024-09-19T12:29:49.107220Z"
    },
    "papermill": {
     "duration": 0.035467,
     "end_time": "2024-09-19T12:29:49.111608",
     "exception": false,
     "start_time": "2024-09-19T12:29:49.076141",
     "status": "completed"
    },
    "tags": []
   },
   "outputs": [
    {
     "data": {
      "text/html": [
       "<div>\n",
       "<style scoped>\n",
       "    .dataframe tbody tr th:only-of-type {\n",
       "        vertical-align: middle;\n",
       "    }\n",
       "\n",
       "    .dataframe tbody tr th {\n",
       "        vertical-align: top;\n",
       "    }\n",
       "\n",
       "    .dataframe thead th {\n",
       "        text-align: right;\n",
       "    }\n",
       "</style>\n",
       "<table border=\"1\" class=\"dataframe\">\n",
       "  <thead>\n",
       "    <tr style=\"text-align: right;\">\n",
       "      <th></th>\n",
       "      <th>f0_</th>\n",
       "    </tr>\n",
       "  </thead>\n",
       "  <tbody>\n",
       "    <tr>\n",
       "      <th>0</th>\n",
       "      <td>6727</td>\n",
       "    </tr>\n",
       "  </tbody>\n",
       "</table>\n",
       "</div>"
      ],
      "text/plain": [
       "    f0_\n",
       "0  6727"
      ]
     },
     "execution_count": 39,
     "metadata": {},
     "output_type": "execute_result"
    }
   ],
   "source": [
    "is_erc_721"
   ]
  },
  {
   "cell_type": "code",
   "execution_count": 40,
   "id": "37955841",
   "metadata": {
    "execution": {
     "iopub.execute_input": "2024-09-19T12:29:49.154898Z",
     "iopub.status.busy": "2024-09-19T12:29:49.154400Z",
     "iopub.status.idle": "2024-09-19T12:30:01.848440Z",
     "shell.execute_reply": "2024-09-19T12:30:01.847006Z"
    },
    "papermill": {
     "duration": 12.719836,
     "end_time": "2024-09-19T12:30:01.851778",
     "exception": false,
     "start_time": "2024-09-19T12:29:49.131942",
     "status": "completed"
    },
    "tags": []
   },
   "outputs": [
    {
     "name": "stdout",
     "output_type": "stream",
     "text": [
      "CPU times: user 70.5 ms, sys: 7.34 ms, total: 77.9 ms\n",
      "Wall time: 12.7 s\n"
     ]
    }
   ],
   "source": [
    "%%time\n",
    "all_contracts = bq_assistant.query_to_pandas_safe(QUERY_ALL)"
   ]
  },
  {
   "cell_type": "code",
   "execution_count": 41,
   "id": "3103ca3c",
   "metadata": {
    "execution": {
     "iopub.execute_input": "2024-09-19T12:30:01.898203Z",
     "iopub.status.busy": "2024-09-19T12:30:01.897694Z",
     "iopub.status.idle": "2024-09-19T12:30:01.910012Z",
     "shell.execute_reply": "2024-09-19T12:30:01.908210Z"
    },
    "papermill": {
     "duration": 0.039127,
     "end_time": "2024-09-19T12:30:01.913609",
     "exception": false,
     "start_time": "2024-09-19T12:30:01.874482",
     "status": "completed"
    },
    "tags": []
   },
   "outputs": [
    {
     "data": {
      "text/html": [
       "<div>\n",
       "<style scoped>\n",
       "    .dataframe tbody tr th:only-of-type {\n",
       "        vertical-align: middle;\n",
       "    }\n",
       "\n",
       "    .dataframe tbody tr th {\n",
       "        vertical-align: top;\n",
       "    }\n",
       "\n",
       "    .dataframe thead th {\n",
       "        text-align: right;\n",
       "    }\n",
       "</style>\n",
       "<table border=\"1\" class=\"dataframe\">\n",
       "  <thead>\n",
       "    <tr style=\"text-align: right;\">\n",
       "      <th></th>\n",
       "      <th>f0_</th>\n",
       "    </tr>\n",
       "  </thead>\n",
       "  <tbody>\n",
       "    <tr>\n",
       "      <th>0</th>\n",
       "      <td>68515044</td>\n",
       "    </tr>\n",
       "  </tbody>\n",
       "</table>\n",
       "</div>"
      ],
      "text/plain": [
       "        f0_\n",
       "0  68515044"
      ]
     },
     "execution_count": 41,
     "metadata": {},
     "output_type": "execute_result"
    }
   ],
   "source": [
    "all_contracts"
   ]
  },
  {
   "cell_type": "code",
   "execution_count": 42,
   "id": "968e91fe",
   "metadata": {
    "execution": {
     "iopub.execute_input": "2024-09-19T12:30:01.957767Z",
     "iopub.status.busy": "2024-09-19T12:30:01.957325Z",
     "iopub.status.idle": "2024-09-19T12:30:01.963603Z",
     "shell.execute_reply": "2024-09-19T12:30:01.961949Z"
    },
    "papermill": {
     "duration": 0.032357,
     "end_time": "2024-09-19T12:30:01.966401",
     "exception": false,
     "start_time": "2024-09-19T12:30:01.934044",
     "status": "completed"
    },
    "tags": []
   },
   "outputs": [],
   "source": [
    "import matplotlib.pyplot as plt\n",
    "import pandas as pd"
   ]
  },
  {
   "cell_type": "code",
   "execution_count": 43,
   "id": "96b99c82",
   "metadata": {
    "execution": {
     "iopub.execute_input": "2024-09-19T12:30:02.012518Z",
     "iopub.status.busy": "2024-09-19T12:30:02.011993Z",
     "iopub.status.idle": "2024-09-19T12:30:02.324272Z",
     "shell.execute_reply": "2024-09-19T12:30:02.322383Z"
    },
    "papermill": {
     "duration": 0.340736,
     "end_time": "2024-09-19T12:30:02.327106",
     "exception": false,
     "start_time": "2024-09-19T12:30:01.986370",
     "status": "completed"
    },
    "tags": []
   },
   "outputs": [
    {
     "data": {
      "image/png": "[encoded data removed]",
      "text/plain": [
       "<Figure size 800x600 with 1 Axes>"
      ]
     },
     "metadata": {},
     "output_type": "display_data"
    }
   ],
   "source": [
    "\n",
    "\n",
    "\n",
    "# Extract values from the dataframes\n",
    "erc_20_count = is_erc_20.iloc[0, 0]\n",
    "erc_721_count = is_erc_721.iloc[0, 0]\n",
    "total_contracts = all_contracts.iloc[0, 0]\n",
    "\n",
    "# Calculate other contracts\n",
    "other_contracts = total_contracts - (erc_20_count + erc_721_count)\n",
    "\n",
    "# Calculate percentages\n",
    "erc_20_percent = (erc_20_count / total_contracts) * 100\n",
    "erc_721_percent = (erc_721_count / total_contracts) * 100\n",
    "other_percent = (other_contracts / total_contracts) * 100\n",
    "\n",
    "# Data for the plot\n",
    "labels = ['ERC-20', 'ERC-721', 'Other Types of contracts']\n",
    "percentages = [erc_20_percent, erc_721_percent, other_percent]\n",
    "\n",
    "# Colors and fonts\n",
    "colors = ['#8BC34A', '#9B59B6','#FFC5C5']\n",
    "\n",
    "# Create the bar plot\n",
    "plt.figure(figsize=(8, 6))\n",
    "plt.bar(labels, percentages, color=colors)\n",
    "\n",
    "# Add title and labels\n",
    "plt.title('Percentage Distribution of Contract Types', fontsize=16)\n",
    "plt.xlabel('Contract Types', fontsize=12)\n",
    "plt.ylabel('Percentage (%)', fontsize=12)\n",
    "    \n",
    "for i, v in enumerate(percentages):\n",
    "    plt.text(i, v + 0.1, f\"{v:.3f}%\", ha='center', fontsize=12)\n",
    "\n",
    "# Show the plot\n",
    "plt.tight_layout()\n",
    "plt.show()\n",
    "\n",
    "\n"
   ]
  },
  {
   "cell_type": "code",
   "execution_count": null,
   "id": "787b6c03",
   "metadata": {
    "papermill": {
     "duration": 0.020389,
     "end_time": "2024-09-19T12:30:02.368742",
     "exception": false,
     "start_time": "2024-09-19T12:30:02.348353",
     "status": "completed"
    },
    "tags": []
   },
   "outputs": [],
   "source": []
  }
 ],
 "metadata": {
  "kaggle": {
   "accelerator": "none",
   "dataSources": [
    {
     "datasetId": 41998,
     "sourceId": 313375,
     "sourceType": "datasetVersion"
    }
   ],
   "dockerImageVersionId": 30761,
   "isGpuEnabled": false,
   "isInternetEnabled": true,
   "language": "python",
   "sourceType": "notebook"
  },
  "kernelspec": {
   "display_name": "Python 3",
   "language": "python",
   "name": "python3"
  },
  "language_info": {
   "codemirror_mode": {
    "name": "ipython",
    "version": 3
   },
   "file_extension": ".py",
   "mimetype": "text/x-python",
   "name": "python",
   "nbconvert_exporter": "python",
   "pygments_lexer": "ipython3",
   "version": "3.10.14"
  },
  "papermill": {
   "default_parameters": {},
   "duration": 73.698206,
   "end_time": "2024-09-19T12:30:03.212698",
   "environment_variables": {},
   "exception": null,
   "input_path": "__notebook__.ipynb",
   "output_path": "__notebook__.ipynb",
   "parameters": {},
   "start_time": "2024-09-19T12:28:49.514492",
   "version": "2.6.0"
  }
 },
 "nbformat": 4,
 "nbformat_minor": 5
}
